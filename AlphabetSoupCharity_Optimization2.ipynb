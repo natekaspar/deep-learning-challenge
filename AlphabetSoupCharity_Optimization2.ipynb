{
 "cells": [
  {
   "cell_type": "code",
   "execution_count": 1,
   "metadata": {},
   "outputs": [
    {
     "name": "stderr",
     "output_type": "stream",
     "text": [
      "WARNING:absl:At this time, the v2.11+ optimizer `tf.keras.optimizers.Adam` runs slowly on M1/M2 Macs, please use the legacy Keras optimizer instead, located at `tf.keras.optimizers.legacy.Adam`.\n"
     ]
    },
    {
     "name": "stdout",
     "output_type": "stream",
     "text": [
      "Epoch 1/50\n",
      "858/858 [==============================] - 10s 11ms/step - loss: 0.4948 - accuracy: 0.7622 - val_loss: 0.5934 - val_accuracy: 0.5977\n",
      "Epoch 2/50\n",
      "858/858 [==============================] - 8s 9ms/step - loss: 0.1610 - accuracy: 0.9419 - val_loss: 0.6191 - val_accuracy: 0.5845\n",
      "Epoch 3/50\n",
      "858/858 [==============================] - 8s 9ms/step - loss: 0.0997 - accuracy: 0.9618 - val_loss: 0.5880 - val_accuracy: 0.5844\n",
      "Epoch 4/50\n",
      "858/858 [==============================] - 8s 9ms/step - loss: 0.0948 - accuracy: 0.9616 - val_loss: 0.6271 - val_accuracy: 0.5783\n",
      "Epoch 5/50\n",
      "858/858 [==============================] - 8s 10ms/step - loss: 0.0927 - accuracy: 0.9620 - val_loss: 0.5486 - val_accuracy: 0.5856\n",
      "Epoch 6/50\n",
      "858/858 [==============================] - 8s 10ms/step - loss: 0.0920 - accuracy: 0.9624 - val_loss: 0.5478 - val_accuracy: 0.5940\n",
      "Epoch 7/50\n",
      "858/858 [==============================] - 8s 10ms/step - loss: 0.0911 - accuracy: 0.9628 - val_loss: 0.6076 - val_accuracy: 0.5863\n",
      "Epoch 8/50\n",
      "858/858 [==============================] - 9s 10ms/step - loss: 0.0901 - accuracy: 0.9623 - val_loss: 0.5366 - val_accuracy: 0.5965\n",
      "Epoch 9/50\n",
      "858/858 [==============================] - 8s 10ms/step - loss: 0.0896 - accuracy: 0.9636 - val_loss: 0.5572 - val_accuracy: 0.5783\n",
      "Epoch 10/50\n",
      "858/858 [==============================] - 8s 10ms/step - loss: 0.0886 - accuracy: 0.9634 - val_loss: 0.5585 - val_accuracy: 0.5752\n",
      "Epoch 11/50\n",
      "858/858 [==============================] - 8s 9ms/step - loss: 0.0882 - accuracy: 0.9637 - val_loss: 0.5703 - val_accuracy: 0.5799\n",
      "Epoch 12/50\n",
      "858/858 [==============================] - 8s 10ms/step - loss: 0.0879 - accuracy: 0.9634 - val_loss: 0.5798 - val_accuracy: 0.5813\n",
      "Epoch 13/50\n",
      "858/858 [==============================] - 8s 10ms/step - loss: 0.0876 - accuracy: 0.9645 - val_loss: 0.5616 - val_accuracy: 0.5808\n",
      "215/215 [==============================] - 0s 2ms/step - loss: 0.5616 - accuracy: 0.5808\n",
      "Loss: 0.5616280436515808, Accuracy: 0.5807580351829529\n"
     ]
    }
   ],
   "source": [
    "#Another Attempt (2), decided to start from beginning to help seperate previous model as i find it easier to look at \n",
    "# Import our dependencies\n",
    "from sklearn.model_selection import train_test_split\n",
    "from sklearn.preprocessing import StandardScaler\n",
    "import pandas as pd\n",
    "import tensorflow as tf\n",
    "\n",
    "#  Import and read the charity_data.csv.\n",
    "import pandas as pd \n",
    "application_df = pd.read_csv(\"https://static.bc-edx.com/data/dl-1-2/m21/lms/starter/charity_data.csv\")\n",
    "application_df.head()\n",
    "\n",
    "# Numeric \n",
    "application_df = pd.get_dummies(application_df)\n",
    "\n",
    "# Split features and target\n",
    "X = application_df.drop(columns='IS_SUCCESSFUL')\n",
    "y = application_df['IS_SUCCESSFUL']\n",
    "\n",
    "# Split data \n",
    "X_train, X_test, y_train, y_test = train_test_split(X, y, test_size=0.2, random_state=42)\n",
    "\n",
    "# Features \n",
    "scaler = StandardScaler()\n",
    "X_train_scaled = scaler.fit_transform(X_train)\n",
    "X_test_scaled = scaler.transform(X_test)\n",
    "\n",
    "# Definning the function\n",
    "def create_model(learning_rate=0.001, dropout_rate=0.2):\n",
    "    model = tf.keras.models.Sequential([\n",
    "        tf.keras.layers.Dense(units=128, activation='relu', input_dim=X_train_scaled.shape[1]),\n",
    "        tf.keras.layers.Dropout(dropout_rate),\n",
    "        tf.keras.layers.Dense(units=64, activation='relu'),\n",
    "        tf.keras.layers.Dense(units=1, activation='sigmoid')\n",
    "    ])\n",
    "    optimizer = tf.keras.optimizers.Adam(learning_rate=learning_rate)\n",
    "    model.compile(optimizer=optimizer, loss='binary_crossentropy', metrics=['accuracy'])\n",
    "    return model\n",
    "\n",
    "# EarlyStopping callback (https://keras.io/api/callbacks/early_stopping/)\n",
    "early_stopping = tf.keras.callbacks.EarlyStopping(monitor='val_loss', patience=5)\n",
    "\n",
    "# Create the model\n",
    "model = create_model()\n",
    "history = model.fit(X_train_scaled, y_train, epochs=50, batch_size=32, validation_data=(X_test_scaled, y_test), callbacks=[early_stopping])\n",
    "\n",
    "# Evaluate \n",
    "loss, accuracy = model.evaluate(X_test_scaled, y_test)\n",
    "print(f\"Loss: {loss}, Accuracy: {accuracy}\")"
   ]
  },
  {
   "cell_type": "code",
   "execution_count": 2,
   "metadata": {},
   "outputs": [
    {
     "name": "stdout",
     "output_type": "stream",
     "text": [
      "215/215 [==============================] - 0s 2ms/step - loss: 0.5616 - accuracy: 0.5808\n",
      "Loss: 0.5616280436515808, Accuracy: 0.5807580351829529\n"
     ]
    }
   ],
   "source": [
    "# Evaluate \n",
    "loss, accuracy = model.evaluate(X_test_scaled, y_test)\n",
    "print(f\"Loss: {loss}, Accuracy: {accuracy}\")\n"
   ]
  },
  {
   "cell_type": "code",
   "execution_count": 3,
   "metadata": {},
   "outputs": [
    {
     "name": "stderr",
     "output_type": "stream",
     "text": [
      "/Users/natekaspar/anaconda3/envs/dev/lib/python3.10/site-packages/keras/src/engine/training.py:3103: UserWarning: You are saving your model as an HDF5 file via `model.save()`. This file format is considered legacy. We recommend using instead the native Keras format, e.g. `model.save('my_model.keras')`.\n",
      "  saving_api.save_model(\n"
     ]
    }
   ],
   "source": [
    "# Export our model to HDF5 file\n",
    "model.save('AlphabetSoupCharity_Optimization.h5')"
   ]
  }
 ],
 "metadata": {
  "kernelspec": {
   "display_name": "dev",
   "language": "python",
   "name": "python3"
  },
  "language_info": {
   "codemirror_mode": {
    "name": "ipython",
    "version": 3
   },
   "file_extension": ".py",
   "mimetype": "text/x-python",
   "name": "python",
   "nbconvert_exporter": "python",
   "pygments_lexer": "ipython3",
   "version": "3.10.13"
  }
 },
 "nbformat": 4,
 "nbformat_minor": 2
}
